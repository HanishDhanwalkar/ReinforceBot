{
 "cells": [
  {
   "cell_type": "code",
   "execution_count": 1,
   "metadata": {},
   "outputs": [
    {
     "name": "stderr",
     "output_type": "stream",
     "text": [
      "c:\\Users\\Hanish\\Desktop\\ongoing projects\\ReinforceBot\\.venv\\Lib\\site-packages\\tqdm\\auto.py:21: TqdmWarning: IProgress not found. Please update jupyter and ipywidgets. See https://ipywidgets.readthedocs.io/en/stable/user_install.html\n",
      "  from .autonotebook import tqdm as notebook_tqdm\n"
     ]
    }
   ],
   "source": [
    "import torch\n",
    "# from transformers import GPT2LMHeadModel, , pipeline, AutoModel\n",
    "# from trl import PPOTrainer, PPOConfig, AutoModelForCausalLMWithValueHead\n",
    "from datasets import Dataset\n",
    "from trl import GRPOConfig, GRPOTrainer\n",
    "from transformers import AutoModelForCausalLM\n",
    "from transformers import GPT2Tokenizer\n"
   ]
  },
  {
   "cell_type": "code",
   "execution_count": 2,
   "metadata": {},
   "outputs": [],
   "source": [
    "model = AutoModelForCausalLM.from_pretrained(\"gpt2\")\n",
    "tokenizer = GPT2Tokenizer.from_pretrained(\"gpt2\")\n",
    "tokenizer.pad_token = tokenizer.eos_token  # Set pad token\n",
    "# model.config.pad_token_id = model.config.eos_token_id"
   ]
  },
  {
   "cell_type": "code",
   "execution_count": 3,
   "metadata": {},
   "outputs": [],
   "source": [
    "model.config.pad_token_id"
   ]
  },
  {
   "cell_type": "code",
   "execution_count": 4,
   "metadata": {},
   "outputs": [],
   "source": [
    "dummy_dataset = Dataset.from_dict({\"prompt\": [\"SUBREDDIT: r/cats TITLE: really need your help with my cat, Never seen him act like this POST: So my brother comes over my house a lot and he is really scared of my cat, my cat is 2 and has always been a sweet heart so I never de-clawed him but today well I was working on my computer the my brother came home I didnt even notice until he started screaming I mean SCREEAMMINGG like if you had just cut your self really bad or were in a worse situation, I got up FAST ran to my door and thought SOMEONE MIGHT BE IN THE HOUSE, I literally grabbed my gun and went out my run expecting to see him at gun point or on the floor bleeding, instead he was on the counter screaming still with the cat hanging onto his leg making all sort of weird sounds, I put the gun down and quickly went to the cat thinking it would defuse him but he gave me a quick his and growl and stood his ground me and my brother got into a argument about what to do (He wanted me to shoot the cat) anyways 5 minuets went by and I got the cat into a room and then checked on my brother too see if he was over reacting and his leg was pretty fucked by the cat, lots of bite marks and blood dripping, this happend 30 min ago the cat is still locked up making growling sounds my brother left telling me he will not talk to me until I get rid of the cat (Which I will not do) but it makes me wounder... when should I let the cat out and what got over him... he is the type of cat that just sleeps on you all day.. TL;DR:\"], \"completion\": [\"MY BRO GOT FUCKED UP BY MY CAT, I ALMOST GOT FUCKED UP BY HIM. CAT IS NEVER LIKE THAT AND IS EXTREMELY LOVABLE\"]})\n"
   ]
  },
  {
   "cell_type": "code",
   "execution_count": 5,
   "metadata": {},
   "outputs": [],
   "source": [
    "training_args = GRPOConfig(\n",
    "    output_dir=\"my_grpo_model\",\n",
    "    logging_steps=10,\n",
    "    \n",
    ")"
   ]
  },
  {
   "cell_type": "code",
   "execution_count": 6,
   "metadata": {},
   "outputs": [],
   "source": [
    "# Dummy reward function: rewards completions that are close to 20 characters\n",
    "def reward_len(completions, **kwargs):\n",
    "    return [-abs(20 - len(completion)) for completion in completions]"
   ]
  },
  {
   "cell_type": "code",
   "execution_count": 7,
   "metadata": {},
   "outputs": [],
   "source": [
    "grpo_trainer = GRPOTrainer(\n",
    "    model=model,\n",
    "    args=training_args,\n",
    "    train_dataset=dummy_dataset,\n",
    "    reward_funcs=reward_len,\n",
    "    processing_class=tokenizer\n",
    ")"
   ]
  },
  {
   "cell_type": "code",
   "execution_count": 8,
   "metadata": {},
   "outputs": [
    {
     "data": {
      "text/html": [
       "\n",
       "    <div>\n",
       "      \n",
       "      <progress value='3' max='3' style='width:300px; height:20px; vertical-align: middle;'></progress>\n",
       "      [3/3 01:08, Epoch 3/3]\n",
       "    </div>\n",
       "    <table border=\"1\" class=\"dataframe\">\n",
       "  <thead>\n",
       " <tr style=\"text-align: left;\">\n",
       "      <th>Step</th>\n",
       "      <th>Training Loss</th>\n",
       "    </tr>\n",
       "  </thead>\n",
       "  <tbody>\n",
       "  </tbody>\n",
       "</table><p>"
      ],
      "text/plain": [
       "<IPython.core.display.HTML object>"
      ]
     },
     "metadata": {},
     "output_type": "display_data"
    },
    {
     "data": {
      "text/plain": [
       "TrainOutput(global_step=3, training_loss=158214.04166666666, metrics={'train_runtime': 102.345, 'train_samples_per_second': 0.029, 'train_steps_per_second': 0.029, 'total_flos': 0.0, 'train_loss': 158214.04166666666})"
      ]
     },
     "execution_count": 8,
     "metadata": {},
     "output_type": "execute_result"
    }
   ],
   "source": [
    "grpo_trainer.train()"
   ]
  },
  {
   "cell_type": "code",
   "execution_count": null,
   "metadata": {},
   "outputs": [],
   "source": []
  }
 ],
 "metadata": {
  "kernelspec": {
   "display_name": ".venv",
   "language": "python",
   "name": "python3"
  },
  "language_info": {
   "codemirror_mode": {
    "name": "ipython",
    "version": 3
   },
   "file_extension": ".py",
   "mimetype": "text/x-python",
   "name": "python",
   "nbconvert_exporter": "python",
   "pygments_lexer": "ipython3",
   "version": "3.11.7"
  }
 },
 "nbformat": 4,
 "nbformat_minor": 2
}
